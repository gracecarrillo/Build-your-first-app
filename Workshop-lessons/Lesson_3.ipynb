{
 "metadata": {
  "language_info": {
   "codemirror_mode": {
    "name": "ipython",
    "version": 3
   },
   "file_extension": ".py",
   "mimetype": "text/x-python",
   "name": "python",
   "nbconvert_exporter": "python",
   "pygments_lexer": "ipython3",
   "version": "3.9.0-final"
  },
  "orig_nbformat": 2,
  "kernelspec": {
   "name": "python3",
   "display_name": "Python 3.9.0 64-bit ('app')",
   "metadata": {
    "interpreter": {
     "hash": "eae984d706412521d759594019c5a62c4ce5494f1bcee206263497245ad5b67f"
    }
   }
  }
 },
 "nbformat": 4,
 "nbformat_minor": 2,
 "cells": [
  {
   "source": [
    "# Building Android Apps With Python: Lesson 3"
   ],
   "cell_type": "markdown",
   "metadata": {}
  },
  {
   "source": [
    "In the previous lessons, we learned how Kivy and Kivymd make it super easy to develop apps using Python. \n",
    "\n",
    "We have covered:\n",
    "\n",
    "- The basics of app development, how to display text, take input, and use buttons to make our app interactive. \n",
    "- Various UI/UIX elements that are supported by Kivy and how they can be easily implemented using Kivy String Builders, written in a hierarchical format that don't require any explicit import statements. \n",
    "\n",
    "If you haven’t read the previous lessons, is important you have a look at them for better understanding before continuing with this final lesson. "
   ],
   "cell_type": "markdown",
   "metadata": {}
  },
  {
   "source": [
    "In this last lesson, we will cover all the remaining frequently used (and a bit more difficult) elements in Kivymd."
   ],
   "cell_type": "markdown",
   "metadata": {}
  },
  {
   "source": [
    "### MDDialog\n",
    "\n",
    "Last time we built a basic app that takes a password as input, compares it with our keyword “root” and displays success or failure message but as text on the screen. What if a dialog box pops up which not only displays the result of the action but gives more options if applicable? This type of function can be made with the help of `MDDialog`. Let’s look at its implementation:"
   ],
   "cell_type": "markdown",
   "metadata": {}
  },
  {
   "cell_type": "code",
   "execution_count": 3,
   "metadata": {},
   "outputs": [
    {
     "output_type": "stream",
     "name": "stdout",
     "text": [
      "Overwriting auth_with_dialog.py\n"
     ]
    }
   ],
   "source": [
    "%%writefile auth_with_dialog.py\n",
    "\n",
    "from kivymd.app import MDApp\n",
    "from kivy.lang import Builder\n",
    "from kivy.properties import ObjectProperty\n",
    "from kivymd.uix.dialog import MDDialog\n",
    "from kivymd.uix.button import MDFlatButton\n",
    "\n",
    "kv = '''\n",
    "Screen:\n",
    "    in_class: text\n",
    "\n",
    "    MDLabel:\n",
    "        text: 'Basic Authentication App'\n",
    "        font_style: 'H2'\n",
    "        pos_hint: {'center_x': 0.6, 'center_y': 0.8}\n",
    "    MDTextField:\n",
    "        id: text\n",
    "        hint_text: 'Enter you password'\n",
    "        helper_text: 'Forgot your password?'\n",
    "        helper_text_mode: \"on_focus\" \n",
    "        pos_hint: {'center_x': 0.5, 'center_y': 0.4}\n",
    "        size_hint_x: None\n",
    "        width: 300\n",
    "        icon_right: \"account-search\"\n",
    "        required: True\n",
    "    MDRectangleFlatButton:\n",
    "        text: 'Submit'\n",
    "        pos_hint: {'center_x': 0.5, 'center_y': 0.3}\n",
    "        on_press:\n",
    "            app.auth()\n",
    "    MDLabel:\n",
    "        text: ''\n",
    "        id: show\n",
    "        pos_hint: {'center_x': 1.0, 'center_y': 0.2}\n",
    "'''\n",
    "\n",
    "class Main(MDApp):\n",
    "    in_class = ObjectProperty(None)\n",
    "\n",
    "    def build(self):\n",
    "        return Builder.load_string(kv)\n",
    "\n",
    "    def auth(self):\n",
    "        if self.root.in_class.text == 'admin':\n",
    "            # label = self.root.ids.show\n",
    "            # label.text = \"Sucess\"\n",
    "            self.dialog = MDDialog(title='Password check',\n",
    "                                   text=\"Sucess !\", size_hint=(0.8, 1),\n",
    "                                   buttons=[MDFlatButton(text='Close', on_release=self.close_dialog),\n",
    "                                            MDFlatButton(text='More')]\n",
    "                                   )\n",
    "            self.dialog.open()\n",
    "        else:\n",
    "            # label = self.root.ids.show\n",
    "            # label.text = \"Fail\"\n",
    "            self.dialog = MDDialog(title='Password check',\n",
    "                        text=\"Fail !\", size_hint=(0.8, 1),\n",
    "                        buttons=[MDFlatButton(text='Close', on_release=self.close_dialog),\n",
    "                                MDFlatButton(text='More')]\n",
    "            )\n",
    "            #self.dialog.text = 'Fail !'\n",
    "            self.dialog.open()\n",
    "\n",
    "    def close_dialog(self, obj):\n",
    "        self.dialog.dismiss()\n",
    "\n",
    "\n",
    "Main().run()"
   ]
  },
  {
   "cell_type": "code",
   "execution_count": 4,
   "metadata": {},
   "outputs": [
    {
     "output_type": "stream",
     "name": "stderr",
     "text": [
      "[INFO   ] [Logger      ] Record log in C:\\Users\\User\\.kivy\\logs\\kivy_21-02-10_11.txt\n",
      "[INFO   ] [deps        ] Successfully imported \"kivy_deps.gstreamer\" 0.3.1\n",
      "[INFO   ] [deps        ] Successfully imported \"kivy_deps.angle\" 0.3.0\n",
      "[INFO   ] [deps        ] Successfully imported \"kivy_deps.glew\" 0.3.0\n",
      "[INFO   ] [deps        ] Successfully imported \"kivy_deps.sdl2\" 0.3.1\n",
      "[INFO   ] [Kivy        ] v2.0.0\n",
      "[INFO   ] [Kivy        ] Installed at \"C:\\Users\\User\\OneDrive\\Kaplan GIC\\PM617 Research Development\\Build_your_first_app\\app\\lib\\site-packages\\kivy\\__init__.py\"\n",
      "[INFO   ] [Python      ] v3.9.0 (tags/v3.9.0:9cf6752, Oct  5 2020, 15:34:40) [MSC v.1927 64 bit (AMD64)]\n",
      "[INFO   ] [Python      ] Interpreter at \"C:\\Users\\User\\OneDrive\\Kaplan GIC\\PM617 Research Development\\Build_your_first_app\\app\\Scripts\\python.exe\"\n",
      "[INFO   ] [KivyMD      ] v0.104.1\n",
      "[INFO   ] [Factory     ] 186 symbols loaded\n",
      "[INFO   ] [Image       ] Providers: img_tex, img_dds, img_sdl2, img_pil (img_ffpyplayer ignored)\n",
      "[INFO   ] [Window      ] Provider: sdl2\n",
      "[INFO   ] [GL          ] Using the \"OpenGL\" graphics system\n",
      "[INFO   ] [GL          ] GLEW initialization succeeded\n",
      "[INFO   ] [GL          ] Backend used <glew>\n",
      "[INFO   ] [GL          ] OpenGL version <b'4.6.0 - Build 27.20.100.8681'>\n",
      "[INFO   ] [GL          ] OpenGL vendor <b'Intel'>\n",
      "[INFO   ] [GL          ] OpenGL renderer <b'Intel(R) UHD Graphics'>\n",
      "[INFO   ] [GL          ] OpenGL parsed version: 4, 6\n",
      "[INFO   ] [GL          ] Shading version <b'4.60 - Build 27.20.100.8681'>\n",
      "[INFO   ] [GL          ] Texture max size <16384>\n",
      "[INFO   ] [GL          ] Texture max units <32>\n",
      "[INFO   ] [Window      ] auto add sdl2 input provider\n",
      "[INFO   ] [Window      ] virtual keyboard not allowed, single mode, not docked\n",
      "[INFO   ] [Text        ] Provider: sdl2\n",
      "[INFO   ] [GL          ] NPOT texture support is available\n",
      "[INFO   ] [Base        ] Start application main loop\n",
      "[INFO   ] [Base        ] Leaving application in progress...\n"
     ]
    }
   ],
   "source": [
    "!python auth_with_dialog.py"
   ]
  },
  {
   "source": [
    "## MDLIST (One, two, three line list items)"
   ],
   "cell_type": "markdown",
   "metadata": {}
  },
  {
   "cell_type": "code",
   "execution_count": 5,
   "metadata": {},
   "outputs": [
    {
     "output_type": "stream",
     "name": "stdout",
     "text": [
      "Writing lists.py\n"
     ]
    }
   ],
   "source": [
    "%%writefile lists.py\n",
    "\n",
    "from kivymd.app import MDApp\n",
    "from kivy.lang import Builder\n",
    "\n",
    "class Main(MDApp):\n",
    "\n",
    "    def build(self):\n",
    "        return Builder.load_file('lists.kv')\n",
    "\n",
    "Main().run()"
   ]
  },
  {
   "source": [
    "!python lists.py"
   ],
   "cell_type": "code",
   "metadata": {},
   "execution_count": 1,
   "outputs": [
    {
     "output_type": "stream",
     "name": "stderr",
     "text": [
      "[INFO   ] [Logger      ] Record log in C:\\Users\\User\\.kivy\\logs\\kivy_21-02-10_13.txt\n",
      "[INFO   ] [deps        ] Successfully imported \"kivy_deps.gstreamer\" 0.3.1\n",
      "[INFO   ] [deps        ] Successfully imported \"kivy_deps.angle\" 0.3.0\n",
      "[INFO   ] [deps        ] Successfully imported \"kivy_deps.glew\" 0.3.0\n",
      "[INFO   ] [deps        ] Successfully imported \"kivy_deps.sdl2\" 0.3.1\n",
      "[INFO   ] [Kivy        ] v2.0.0\n",
      "[INFO   ] [Kivy        ] Installed at \"C:\\Users\\User\\OneDrive\\Kaplan GIC\\PM617 Research Development\\Build_your_first_app\\app\\lib\\site-packages\\kivy\\__init__.py\"\n",
      "[INFO   ] [Python      ] v3.9.0 (tags/v3.9.0:9cf6752, Oct  5 2020, 15:34:40) [MSC v.1927 64 bit (AMD64)]\n",
      "[INFO   ] [Python      ] Interpreter at \"C:\\Users\\User\\OneDrive\\Kaplan GIC\\PM617 Research Development\\Build_your_first_app\\app\\Scripts\\python.exe\"\n",
      "[INFO   ] [KivyMD      ] v0.104.1\n",
      "[INFO   ] [Factory     ] 186 symbols loaded\n",
      "[INFO   ] [Image       ] Providers: img_tex, img_dds, img_sdl2, img_pil (img_ffpyplayer ignored)\n",
      "[INFO   ] [Window      ] Provider: sdl2\n",
      "[INFO   ] [GL          ] Using the \"OpenGL\" graphics system\n",
      "[INFO   ] [GL          ] GLEW initialization succeeded\n",
      "[INFO   ] [GL          ] Backend used <glew>\n",
      "[INFO   ] [GL          ] OpenGL version <b'4.6.0 - Build 27.20.100.8681'>\n",
      "[INFO   ] [GL          ] OpenGL vendor <b'Intel'>\n",
      "[INFO   ] [GL          ] OpenGL renderer <b'Intel(R) UHD Graphics'>\n",
      "[INFO   ] [GL          ] OpenGL parsed version: 4, 6\n",
      "[INFO   ] [GL          ] Shading version <b'4.60 - Build 27.20.100.8681'>\n",
      "[INFO   ] [GL          ] Texture max size <16384>\n",
      "[INFO   ] [GL          ] Texture max units <32>\n",
      "[INFO   ] [Window      ] auto add sdl2 input provider\n",
      "[INFO   ] [Window      ] virtual keyboard not allowed, single mode, not docked\n",
      "[INFO   ] [Text        ] Provider: sdl2\n",
      "[INFO   ] [GL          ] NPOT texture support is available\n",
      "[INFO   ] [Base        ] Start application main loop\n",
      "[INFO   ] [Base        ] Leaving application in progress...\n"
     ]
    }
   ]
  },
  {
   "source": [
    "## Data Tables "
   ],
   "cell_type": "markdown",
   "metadata": {}
  },
  {
   "cell_type": "code",
   "execution_count": 5,
   "metadata": {},
   "outputs": [
    {
     "output_type": "stream",
     "name": "stdout",
     "text": [
      "Overwriting datatable.py\n"
     ]
    }
   ],
   "source": [
    "%%writefile datatable.py\n",
    "\n",
    "from kivymd.app import MDApp\n",
    "from kivy.lang import Builder\n",
    "from kivymd.uix.datatables import MDDataTable\n",
    "from kivy.metrics import dp\n",
    "\n",
    "kv = \"\"\"\n",
    "Screen:\n",
    "    MDRectangleFlatButton:\n",
    "        text: 'Click me to get table contents'\n",
    "        pos_hint: {'center_x': 0.5, 'center_y': 0.5}\n",
    "        on_press: app.table()\n",
    "\"\"\"\n",
    "\n",
    "class Main(MDApp):\n",
    "\n",
    "    def table(self):\n",
    "        self.tables =MDDataTable(orientation=\"lr-tb\",\n",
    "                                pos_hint={'center_x': 0.5, 'center_y': 0.5},\n",
    "                                size_hint=(0.9, 0.6),\n",
    "                                column_data=[(\"Food\", dp(30)),(\"Calories\", dp(30))],\n",
    "                                row_data=[(\"Burger\", \"300\"),(\"Oats\", \"50\")\n",
    "                                ]\n",
    "                                )\n",
    "        self.tables.open()\n",
    "\n",
    "    def build(self):\n",
    "        return Builder.load_string(kv)\n",
    "\n",
    "\n",
    "Main().run()"
   ]
  },
  {
   "cell_type": "code",
   "execution_count": 4,
   "metadata": {},
   "outputs": [
    {
     "output_type": "stream",
     "name": "stderr",
     "text": [
      "[INFO   ] [Logger      ] Record log in C:\\Users\\User\\.kivy\\logs\\kivy_21-02-10_21.txt\n",
      "[INFO   ] [deps        ] Successfully imported \"kivy_deps.gstreamer\" 0.3.1\n",
      "[INFO   ] [deps        ] Successfully imported \"kivy_deps.angle\" 0.3.0\n",
      "[INFO   ] [deps        ] Successfully imported \"kivy_deps.glew\" 0.3.0\n",
      "[INFO   ] [deps        ] Successfully imported \"kivy_deps.sdl2\" 0.3.1\n",
      "[INFO   ] [Kivy        ] v2.0.0\n",
      "[INFO   ] [Kivy        ] Installed at \"C:\\Users\\User\\OneDrive\\Kaplan GIC\\PM617 Research Development\\Build_your_first_app\\app\\lib\\site-packages\\kivy\\__init__.py\"\n",
      "[INFO   ] [Python      ] v3.9.0 (tags/v3.9.0:9cf6752, Oct  5 2020, 15:34:40) [MSC v.1927 64 bit (AMD64)]\n",
      "[INFO   ] [Python      ] Interpreter at \"C:\\Users\\User\\OneDrive\\Kaplan GIC\\PM617 Research Development\\Build_your_first_app\\app\\Scripts\\python.exe\"\n",
      "[INFO   ] [Factory     ] 186 symbols loaded\n",
      "[INFO   ] [Image       ] Providers: img_tex, img_dds, img_sdl2, img_pil (img_ffpyplayer ignored)\n",
      "[INFO   ] [KivyMD      ] v0.104.1\n",
      "[INFO   ] [Window      ] Provider: sdl2\n",
      "[INFO   ] [GL          ] Using the \"OpenGL\" graphics system\n",
      "[INFO   ] [GL          ] GLEW initialization succeeded\n",
      "[INFO   ] [GL          ] Backend used <glew>\n",
      "[INFO   ] [GL          ] OpenGL version <b'4.6.0 - Build 27.20.100.8681'>\n",
      "[INFO   ] [GL          ] OpenGL vendor <b'Intel'>\n",
      "[INFO   ] [GL          ] OpenGL renderer <b'Intel(R) UHD Graphics'>\n",
      "[INFO   ] [GL          ] OpenGL parsed version: 4, 6\n",
      "[INFO   ] [GL          ] Shading version <b'4.60 - Build 27.20.100.8681'>\n",
      "[INFO   ] [GL          ] Texture max size <16384>\n",
      "[INFO   ] [GL          ] Texture max units <32>\n",
      "[INFO   ] [Window      ] auto add sdl2 input provider\n",
      "[INFO   ] [Window      ] virtual keyboard not allowed, single mode, not docked\n",
      "[INFO   ] [Text        ] Provider: sdl2\n",
      "[INFO   ] [GL          ] NPOT texture support is available\n",
      " Traceback (most recent call last):\n",
      "   File \"C:\\Users\\User\\OneDrive\\Kaplan GIC\\PM617 Research Development\\Build_your_first_app\\app\\lib\\site-packages\\kivy\\lang\\builder.py\", line 705, in _apply_rule\n",
      "     setattr(widget_set, key, value)\n",
      "   File \"kivy\\weakproxy.pyx\", line 35, in kivy.weakproxy.WeakProxy.__setattr__\n",
      "   File \"kivy\\properties.pyx\", line 498, in kivy.properties.Property.__set__\n",
      "   File \"kivy\\properties.pyx\", line 542, in kivy.properties.Property.set\n",
      "   File \"kivy\\properties.pyx\", line 533, in kivy.properties.Property.set\n",
      "   File \"kivy\\properties.pyx\", line 1253, in kivy.properties.OptionProperty.check\n",
      " ValueError: TableRecycleGridLayout.orientation is set to an invalid option 'vertical'. Must be one of: ['lr-tb', 'tb-lr', 'rl-tb', 'tb-rl', 'lr-bt', 'bt-lr', 'rl-bt', 'bt-rl']\n",
      " \n",
      " During handling of the above exception, another exception occurred:\n",
      " \n",
      " Traceback (most recent call last):\n",
      "   File \"c:\\Users\\User\\OneDrive\\Kaplan GIC\\PM617 Research Development\\Build_your_first_app\\Workshop-lessons\\datatable.py\", line 89, in <module>\n",
      "     Main().run()\n",
      "   File \"C:\\Users\\User\\OneDrive\\Kaplan GIC\\PM617 Research Development\\Build_your_first_app\\app\\lib\\site-packages\\kivy\\app.py\", line 949, in run\n",
      "     self._run_prepare()\n",
      "   File \"C:\\Users\\User\\OneDrive\\Kaplan GIC\\PM617 Research Development\\Build_your_first_app\\app\\lib\\site-packages\\kivy\\app.py\", line 919, in _run_prepare\n",
      "     root = self.build()\n",
      "   File \"c:\\Users\\User\\OneDrive\\Kaplan GIC\\PM617 Research Development\\Build_your_first_app\\Workshop-lessons\\datatable.py\", line 12, in build\n",
      "     data_tables = MDDataTable(\n",
      "   File \"C:\\Users\\User\\OneDrive\\Kaplan GIC\\PM617 Research Development\\Build_your_first_app\\app\\lib\\site-packages\\kivymd\\uix\\datatables.py\", line 927, in __init__\n",
      "     self.table_data = TableData(\n",
      "   File \"C:\\Users\\User\\OneDrive\\Kaplan GIC\\PM617 Research Development\\Build_your_first_app\\app\\lib\\site-packages\\kivymd\\uix\\datatables.py\", line 488, in __init__\n",
      "     super().__init__(**kwargs)\n",
      "   File \"C:\\Users\\User\\OneDrive\\Kaplan GIC\\PM617 Research Development\\Build_your_first_app\\app\\lib\\site-packages\\kivy\\uix\\recycleview\\__init__.py\", line 409, in __init__\n",
      "     super(RecycleView, self).__init__(**kwargs)\n",
      "   File \"C:\\Users\\User\\OneDrive\\Kaplan GIC\\PM617 Research Development\\Build_your_first_app\\app\\lib\\site-packages\\kivy\\uix\\recycleview\\__init__.py\", line 201, in __init__\n",
      "     super(RecycleViewBehavior, self).__init__(**kwargs)\n",
      "   File \"C:\\Users\\User\\OneDrive\\Kaplan GIC\\PM617 Research Development\\Build_your_first_app\\app\\lib\\site-packages\\kivy\\uix\\scrollview.py\", line 539, in __init__\n",
      "     super(ScrollView, self).__init__(**kwargs)\n",
      "   File \"C:\\Users\\User\\OneDrive\\Kaplan GIC\\PM617 Research Development\\Build_your_first_app\\app\\lib\\site-packages\\kivy\\uix\\widget.py\", line 359, in __init__\n",
      "     self.apply_class_lang_rules(\n",
      "   File \"C:\\Users\\User\\OneDrive\\Kaplan GIC\\PM617 Research Development\\Build_your_first_app\\app\\lib\\site-packages\\kivy\\uix\\widget.py\", line 463, in apply_class_lang_rules\n",
      "     Builder.apply(\n",
      "   File \"C:\\Users\\User\\OneDrive\\Kaplan GIC\\PM617 Research Development\\Build_your_first_app\\app\\lib\\site-packages\\kivy\\lang\\builder.py\", line 541, in apply\n",
      "     self._apply_rule(\n",
      "   File \"C:\\Users\\User\\OneDrive\\Kaplan GIC\\PM617 Research Development\\Build_your_first_app\\app\\lib\\site-packages\\kivy\\lang\\builder.py\", line 710, in _apply_rule\n",
      "     raise BuilderException(rule.ctx, rule.line,\n",
      " kivy.lang.builder.BuilderException: Parser: File \"<inline>\", line 113:\n",
      " ...\n",
      "     111:        height: self.minimum_height\n",
      "     112:        width: self.minimum_width\n",
      " >>  113:        orientation: \"vertical\"\n",
      "     114:        multiselect: True\n",
      "     115:        touch_multiselect: True\n",
      " ...\n",
      " ValueError: TableRecycleGridLayout.orientation is set to an invalid option 'vertical'. Must be one of: ['lr-tb', 'tb-lr', 'rl-tb', 'tb-rl', 'lr-bt', 'bt-lr', 'rl-bt', 'bt-rl']\n",
      "   File \"C:\\Users\\User\\OneDrive\\Kaplan GIC\\PM617 Research Development\\Build_your_first_app\\app\\lib\\site-packages\\kivy\\lang\\builder.py\", line 705, in _apply_rule\n",
      "     setattr(widget_set, key, value)\n",
      "   File \"kivy\\weakproxy.pyx\", line 35, in kivy.weakproxy.WeakProxy.__setattr__\n",
      "   File \"kivy\\properties.pyx\", line 498, in kivy.properties.Property.__set__\n",
      "   File \"kivy\\properties.pyx\", line 542, in kivy.properties.Property.set\n",
      "   File \"kivy\\properties.pyx\", line 533, in kivy.properties.Property.set\n",
      "   File \"kivy\\properties.pyx\", line 1253, in kivy.properties.OptionProperty.check\n",
      " \n"
     ]
    }
   ],
   "source": [
    "!python datatable.py"
   ]
  },
  {
   "source": [
    "## MDToolBar\n",
    "\n"
   ],
   "cell_type": "markdown",
   "metadata": {}
  },
  {
   "cell_type": "code",
   "execution_count": 7,
   "metadata": {},
   "outputs": [
    {
     "output_type": "stream",
     "name": "stdout",
     "text": [
      "Writing toolbar.py\n"
     ]
    }
   ],
   "source": [
    "%%writefile toolbar.py\n",
    "\n",
    "from kivy.lang import Builder\n",
    "\n",
    "from kivymd.app import MDApp\n",
    "\n",
    "kv = '''\n",
    "MDBoxLayout:\n",
    "    orientation: \"vertical\"\n",
    "\n",
    "    MDToolbar:\n",
    "        title: \"MDToolbar\"\n",
    "        left_action_items: [[\"menu\", lambda x: app.callback()]]\n",
    "\n",
    "    MDLabel:\n",
    "        text: \"Content\"\n",
    "        halign: \"center\"\n",
    "'''\n",
    "\n",
    "\n",
    "class Main(MDApp):\n",
    "    def build(self):\n",
    "        return Builder.load_string(kv)\n",
    "\n",
    "\n",
    "Main().run()"
   ]
  },
  {
   "cell_type": "code",
   "execution_count": 8,
   "metadata": {},
   "outputs": [
    {
     "output_type": "stream",
     "name": "stderr",
     "text": [
      "[INFO   ] [Logger      ] Record log in C:\\Users\\User\\.kivy\\logs\\kivy_21-02-10_22.txt\n",
      "[INFO   ] [deps        ] Successfully imported \"kivy_deps.gstreamer\" 0.3.1\n",
      "[INFO   ] [deps        ] Successfully imported \"kivy_deps.angle\" 0.3.0\n",
      "[INFO   ] [deps        ] Successfully imported \"kivy_deps.glew\" 0.3.0\n",
      "[INFO   ] [deps        ] Successfully imported \"kivy_deps.sdl2\" 0.3.1\n",
      "[INFO   ] [Kivy        ] v2.0.0\n",
      "[INFO   ] [Kivy        ] Installed at \"C:\\Users\\User\\OneDrive\\Kaplan GIC\\PM617 Research Development\\Build_your_first_app\\app\\lib\\site-packages\\kivy\\__init__.py\"\n",
      "[INFO   ] [Python      ] v3.9.0 (tags/v3.9.0:9cf6752, Oct  5 2020, 15:34:40) [MSC v.1927 64 bit (AMD64)]\n",
      "[INFO   ] [Python      ] Interpreter at \"C:\\Users\\User\\OneDrive\\Kaplan GIC\\PM617 Research Development\\Build_your_first_app\\app\\Scripts\\python.exe\"\n",
      "[INFO   ] [Factory     ] 186 symbols loaded\n",
      "[INFO   ] [KivyMD      ] v0.104.1\n",
      "[INFO   ] [Image       ] Providers: img_tex, img_dds, img_sdl2, img_pil (img_ffpyplayer ignored)\n",
      "[INFO   ] [Window      ] Provider: sdl2\n",
      "[INFO   ] [GL          ] Using the \"OpenGL\" graphics system\n",
      "[INFO   ] [GL          ] GLEW initialization succeeded\n",
      "[INFO   ] [GL          ] Backend used <glew>\n",
      "[INFO   ] [GL          ] OpenGL version <b'4.6.0 - Build 27.20.100.8681'>\n",
      "[INFO   ] [GL          ] OpenGL vendor <b'Intel'>\n",
      "[INFO   ] [GL          ] OpenGL renderer <b'Intel(R) UHD Graphics'>\n",
      "[INFO   ] [GL          ] OpenGL parsed version: 4, 6\n",
      "[INFO   ] [GL          ] Shading version <b'4.60 - Build 27.20.100.8681'>\n",
      "[INFO   ] [GL          ] Texture max size <16384>\n",
      "[INFO   ] [GL          ] Texture max units <32>\n",
      "[INFO   ] [Window      ] auto add sdl2 input provider\n",
      "[INFO   ] [Window      ] virtual keyboard not allowed, single mode, not docked\n",
      "[INFO   ] [Text        ] Provider: sdl2\n",
      "[INFO   ] [GL          ] NPOT texture support is available\n",
      "[INFO   ] [Base        ] Start application main loop\n",
      "[INFO   ] [Base        ] Leaving application in progress...\n"
     ]
    }
   ],
   "source": [
    "!python toolbar.py"
   ]
  }
 ]
}