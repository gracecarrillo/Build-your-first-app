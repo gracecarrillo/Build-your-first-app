{
 "metadata": {
  "language_info": {
   "codemirror_mode": {
    "name": "ipython",
    "version": 3
   },
   "file_extension": ".py",
   "mimetype": "text/x-python",
   "name": "python",
   "nbconvert_exporter": "python",
   "pygments_lexer": "ipython3",
   "version": "3.9.0-final"
  },
  "orig_nbformat": 2,
  "kernelspec": {
   "name": "python3",
   "display_name": "Python 3.9.0 64-bit ('app')",
   "metadata": {
    "interpreter": {
     "hash": "eae984d706412521d759594019c5a62c4ce5494f1bcee206263497245ad5b67f"
    }
   }
  }
 },
 "nbformat": 4,
 "nbformat_minor": 2,
 "cells": [
  {
   "source": [
    "# Building Android Apps With Python: Lesson 2"
   ],
   "cell_type": "markdown",
   "metadata": {}
  },
  {
   "source": [
    "In the previous part, we learned:\n",
    "\n",
    "- What is Kivy and how to use it\n",
    "- Why Kiymd is required\n",
    "- How to build a basic app displaying `Hello world`\n",
    "\n",
    "\n",
    "In this second lesson, we will look at various key elements of Kivymd which are the building blocks of any app."
   ],
   "cell_type": "markdown",
   "metadata": {}
  },
  {
   "source": [
    "### String Builder\n",
    "\n",
    "Before we proceed with the various components of the app-building process, I want to bring out a useful feature of integrating Kivy with Kivymd. \n",
    "\n",
    "Kivy has its own language dedicated to describing the user interface and various interactions. It is useful as the UI file can be separated from the logic file making the code more readable and manageable. We should separate these logics as in the `.kv` file, we don’t have to make any import statements. We need not worry about where the specific element is located in the Kivymd directory. Also we don’t need to explicitly bind a widget to its root widget. KV files follow a hierarchical structure where you can define one root widget and whenever you define components below this, they are by default added to the root widget.\n",
    "\n",
    " We will look at this concept more clearly in the MDLabel's example."
   ],
   "cell_type": "markdown",
   "metadata": {}
  },
  {
   "source": [
    "### Key Elements of KivyMD\n",
    "\n",
    "We have talked enough about the basics, let’s dive-in into the building blocks of app-building:\n",
    "\n",
    "- Screen\n",
    "\n",
    "All the things require a stage. The screen element is the first thing an app will have. All the activities, components are defined on a screen. It is defined simply by calling it in the KV file. \n",
    "\n",
    "The kivy file looks something like this:"
   ],
   "cell_type": "markdown",
   "metadata": {}
  },
  {
   "source": [
    "```\n",
    "Screen:\n",
    "    components\n",
    "    .\n",
    "    .\n",
    "    .\n",
    "```"
   ],
   "cell_type": "markdown",
   "metadata": {}
  },
  {
   "source": [
    "### MDLabel\n",
    "\n",
    "We have used this component before. This component makes it possible to display any text on your app screen. We can display any component in many ways:"
   ],
   "cell_type": "markdown",
   "metadata": {}
  },
  {
   "cell_type": "code",
   "execution_count": null,
   "metadata": {},
   "outputs": [],
   "source": [
    "%%writefile label.py\n",
    "\n",
    "from kivymd.app import MDApp\n",
    "from kivy.lang import Builder\n",
    "\n",
    "class Main(MDApp):\n",
    "    def build(self):\n",
    "        return Builder.load_file('label.kv')\n",
    "\n",
    "\n",
    "Main().run()"
   ]
  },
  {
   "cell_type": "code",
   "execution_count": null,
   "metadata": {},
   "outputs": [],
   "source": [
    "!python label.py"
   ]
  },
  {
   "source": [
    "Or the other way:"
   ],
   "cell_type": "markdown",
   "metadata": {}
  },
  {
   "cell_type": "code",
   "execution_count": null,
   "metadata": {},
   "outputs": [],
   "source": [
    "%%writefile label.py\n",
    "\n",
    "from kivymd.app import MDApp\n",
    "from kivymd.uix.screen import Screen\n",
    "from kivymd.uix.label import MDLabel\n",
    "\n",
    "\n",
    "class Main(MDApp):\n",
    "    def build(self):\n",
    "        screen = Screen()\n",
    "        label = MDLabel(text=\"[b]We are building our first app![/b]\",\n",
    "                        halign='center',\n",
    "                        font_style='H4',\n",
    "                        markup=True)\n",
    "        screen.add_widget(label)\n",
    "        return screen\n",
    "\n",
    "\n",
    "Main().run()"
   ]
  },
  {
   "cell_type": "code",
   "execution_count": null,
   "metadata": {},
   "outputs": [],
   "source": [
    "!python label.py"
   ]
  },
  {
   "source": [
    "Both of them returns the same output."
   ],
   "cell_type": "markdown",
   "metadata": {}
  },
  {
   "source": [
    "MDLabel has various properties to customize:\n",
    "\n",
    "\n",
    "- font_style: Available options are ‘H1’, ‘H2’, ‘H3’, ‘H4’, ‘H5’, ‘H6’, ‘Subtitle1’, ‘Subtitle2’, ‘Body1’, ‘Body2’, ‘Button’, ‘Caption’, ‘Overline’, ‘Icon’.\n",
    "\n",
    "- text: The text you want to display on the app.\n",
    "\n",
    "- theme_text_color: Available options are ‘Primary’, ‘Secondary’, ‘Hint’, ‘Error’, ‘Custom’, ‘ContrastParentBackground’.\n",
    "\n",
    "- text_color: Text colour is given in RGBA format. The values are given as percentage values and not absolute values. It means that the RGB values you have chosen must be divided by 255 to get the percentage values. Note that while using custom colours, you need to specify theme_text_color to custom.\n",
    "\n",
    "- halign and valign: We can assign the position of the text horizontally and vertically. Available options are auto, left, center, right, and justify.\n",
    "\n",
    "- markup: We can use the markup language to customize the text. You need to specify markup = True to use the markup options. Check the [kivy markup documentation for all the available actions](https://kivy.org/doc/stable/api-kivy.core.text.markup.html).\n",
    "\n",
    "All the properties discussed here remain the same for most of the components except the ones that are exclusive for `Labels`. You can check more options in the [official documentation](https://kivymd.readthedocs.io/en/latest/components/label/index.html).\n",
    "\n",
    "\n",
    "Consider this example:\n",
    "\n",
    "````\n",
    "text_color=(1, 0.2, 0.3, 1),\n",
    "theme_text_color='Custom'\n",
    "````\n",
    "\n",
    "Now apply this to the existing example, ans check the result."
   ],
   "cell_type": "markdown",
   "metadata": {}
  },
  {
   "cell_type": "code",
   "execution_count": null,
   "metadata": {},
   "outputs": [],
   "source": [
    "%%writefile label.py\n",
    "\n",
    "from kivymd.app import MDApp\n",
    "from kivymd.uix.screen import Screen\n",
    "from kivymd.uix.label import MDLabel\n",
    "\n",
    "\n",
    "class Main(MDApp):\n",
    "    def build(self):\n",
    "        screen = Screen()\n",
    "        label = MDLabel(text=\"[b]We are building our first app![/b]\",\n",
    "                        halign='center',\n",
    "                        font_style='H4',\n",
    "                        text_color=(1, 0.2, 0.3, 1),\n",
    "                        theme_text_color='Custom',\n",
    "                        markup=True)\n",
    "        screen.add_widget(label)\n",
    "        return screen\n",
    "\n",
    "\n",
    "Main().run()"
   ]
  },
  {
   "cell_type": "code",
   "execution_count": null,
   "metadata": {},
   "outputs": [],
   "source": [
    "!python label.py"
   ]
  },
  {
   "source": [
    "### MDButton\n",
    "\n",
    "This widget enables you to make the UI interactive by binding the button action with other widgets. These bindings are performed by referring to each other ids. There are various types of buttons available in Kivymd and you can choose any button which suits your requirements. Available options are:\n",
    "\n",
    "- MDIconButton\n",
    "- MDFloatingActionButton\n",
    "- MDFlatButton\n",
    "- MDRaisedButton\n",
    "- MDRectangleFlatButton\n",
    "- MDRectangleFlatIconButton\n",
    "- MDRoundFlatButton\n",
    "- MDRoundFlatIconButton\n",
    "- MDFillRoundFlatButton\n",
    "- MDFillRoundFlatIconButton\n",
    "- MDTextButton\n",
    "- MDFloatingActionButtonSpeedDial\n",
    "\n",
    "Check the following example, covering the most frequent buttons used for better understanding:"
   ],
   "cell_type": "markdown",
   "metadata": {}
  },
  {
   "cell_type": "code",
   "execution_count": null,
   "metadata": {},
   "outputs": [],
   "source": [
    "%%writefile buttons.py\n",
    "\n",
    "from kivymd.app import MDApp\n",
    "from kivy.lang import Builder\n",
    "\n",
    "button_kv = \"\"\"\n",
    "Screen:\n",
    "    MDLabel:\n",
    "        text: \"\"\n",
    "        id: txt\n",
    "        pos_hint: {'center_x': 0.5, 'center_y': 0.6}\n",
    "    MDRaisedButton:\n",
    "        text: 'Action Button'\n",
    "        pos_hint: {'center_x': 0.5, 'center_y': 0.5}\n",
    "        on_press:\n",
    "            app.action()\n",
    "    MDRoundFlatButton:\n",
    "        text: 'MDRoundFlatButton'\n",
    "        pos_hint: {'center_x': 0.5, 'center_y': 0.4}\n",
    "    MDRectangleFlatButton:\n",
    "        text: 'MDRectangleFlatButton'\n",
    "        pos_hint: {'center_x': 0.5, 'center_y': 0.3}\n",
    "    MDRectangleFlatIconButton:\n",
    "        text: 'MDRectangleFlatIconButton'\n",
    "        pos_hint: {'center_x': 0.5, 'center_y': 0.2}\n",
    "        width: dp(230)\n",
    "        icon: 'google'\n",
    "    MDFillRoundFlatIconButton:\n",
    "        text: 'MDFillRoundFlatIconButton'\n",
    "        pos_hint: {'center_x': 0.5, 'center_y': 0.1}\n",
    "        width: dp(230)\n",
    "        icon: 'google'\n",
    "    MDFloatingActionButtonSpeedDial:\n",
    "        data: app.data\n",
    "        rotation_root_button: True\n",
    "\"\"\"\n",
    "\n",
    "\n",
    "class Main(MDApp):\n",
    "    data = {\n",
    "        'language-python': 'Python',\n",
    "        'language-php': 'PHP',\n",
    "        'language-cpp': 'C++',\n",
    "    }\n",
    "\n",
    "    def action(self):\n",
    "        label = self.root.ids.txt\n",
    "        label.text = \"This text is displayed after pressing button\"\n",
    "\n",
    "    def build(self):\n",
    "        return Builder.load_string(button_kv)\n",
    "\n",
    "\n",
    "Main().run()"
   ]
  },
  {
   "source": [
    "Note how here, instead of creating a file called `button.kv` I have separated the UI code in a variable inside the python script, and then I loaded that variable in the builder method. \n",
    "\n",
    "This is also a good approach if you don’t want to make separate files and manage the whole code in one file.\n",
    "\n",
    "Let's run the script and see the output:"
   ],
   "cell_type": "markdown",
   "metadata": {}
  },
  {
   "cell_type": "code",
   "execution_count": null,
   "metadata": {},
   "outputs": [],
   "source": [
    "!python buttons.py"
   ]
  },
  {
   "source": [
    "Let’s understand what’s going on:\n",
    "\n",
    "- Different buttons are displayed on the same screen.\n",
    "\n",
    "- Various icons can be included in buttons. [Check out the whole list of supported icons here](https://github.com/kivymd/KivyMD/blob/master/kivymd/icon_definitions.py).\n",
    "\n",
    "- The floating action button is something new here. It is widely used to give relevant social media links, share options, and many more actions depending on your creativity. We get the data to be displayed from the backend layer, using python code in the form of a dictionary, where the key is the icon name and the value is the text to be displayed. The `app.data` searches in the app (the root widget) for the data variable and the `Main` class of our app holds that variable. It means we should define these variables in the class it belongs to. You will get a better idea when we build an example with multiple screens.\n",
    "\n",
    "- The action button is also new. The action we have associated with this button can be done for any button type. Buttons have a lot of properties for every type but the most common are `on_release`, `on_press`, `on_close`. As the name suggests. they are triggered when that specific action occurs. [Check the documentation for all the actions](https://kivymd.readthedocs.io/en/latest/components/button/)."
   ],
   "cell_type": "markdown",
   "metadata": {}
  },
  {
   "source": [
    "### MDTextField\n",
    "\n",
    "Now we want to take inputs from the user, process it, and display the results. `MDTextField` makes it super easy to customize a base text input. It also comes in 3 classes `MDTextField`, `MDTextFieldRound`, and `MDTextFieldRect`. A text field has the input line, some light text (here known as hint text) to indicate what to input, some additional information below the line (here known as helper text), and sometimes an icon too. \n",
    "\n",
    "Let’s see an example:"
   ],
   "cell_type": "markdown",
   "metadata": {}
  },
  {
   "cell_type": "code",
   "execution_count": null,
   "metadata": {},
   "outputs": [],
   "source": [
    "%%writefile textfield.py\n",
    "\n",
    "from kivymd.app import MDApp\n",
    "from kivy.lang import Builder\n",
    "\n",
    "textfield_kv = \"\"\"\n",
    "Screen:\n",
    "    MDTextField:\n",
    "        hint_text: 'Enter you password'\n",
    "        helper_text: 'Forgot your password?'\n",
    "        helper_text_mode: \"on_focus\" \n",
    "        pos_hint: {'center_x': 0.5, 'center_y': 0.5}\n",
    "        size_hint_x: None\n",
    "        width: 300\n",
    "        icon_right: \"account-search\"\n",
    "        required: True\n",
    "\"\"\"\n",
    "\n",
    "\n",
    "class Main(MDApp):\n",
    "    def build(self):\n",
    "        return Builder.load_string(textfield_kv)\n",
    "\n",
    "\n",
    "Main().run()"
   ]
  },
  {
   "cell_type": "code",
   "execution_count": null,
   "metadata": {},
   "outputs": [],
   "source": [
    "! python textfield.py"
   ]
  },
  {
   "source": [
    "When the user taps on the field, the hint text automatically shifts on the top. Some useful properties of `MDTextField` are:\n",
    "\n",
    "- The helper text has various modes: “focus”, “persistent” and “error”. In “focus” mode, the helper text only appears when the text field is focused or tapped whereas, in “persistent” mode, the helper text always appears.\n",
    "\n",
    "- We can specify whether the field is required or not using `required=True`, control the length of text using `max_text_length`, or make it multi-line input.\n",
    "\n",
    "- The input can be taken to the python layer by defining an object property in the base class of the app and defining its reference in the KV file which references the id of the text field.\n",
    "\n",
    "\n",
    "Check out other [properties here](https://kivymd.readthedocs.io/en/latest/components/text-field/index.html)."
   ],
   "cell_type": "markdown",
   "metadata": {}
  },
  {
   "source": [
    "### Let's make a basic app!\n",
    "\n",
    "We have covered some of the basic elements to build an app. But before ending this lesson let’s combine what we have learned till now into an app that takes a password as input and displays whether we are the admin user or not."
   ],
   "cell_type": "markdown",
   "metadata": {}
  },
  {
   "cell_type": "code",
   "execution_count": null,
   "metadata": {},
   "outputs": [],
   "source": [
    "%%writefile basic_auth.py\n",
    "\n",
    "from kivymd.app import MDApp\n",
    "from kivy.lang import Builder\n",
    "from kivy.properties import ObjectProperty\n",
    "\n",
    "\n",
    "class Main(MDApp):\n",
    "    in_class = ObjectProperty(None)\n",
    "\n",
    "    def build(self):\n",
    "        return Builder.load_file('basic_auth.kv')\n",
    "\n",
    "    def auth(self):\n",
    "        if self.root.in_class.text == 'admin':\n",
    "            label = self.root.ids.show\n",
    "            label.text = 'Sucess'\n",
    "        else:\n",
    "            label = self.root.ids.show\n",
    "            label.text = 'Fail'\n",
    "\n",
    "\n",
    "Main().run()"
   ]
  },
  {
   "cell_type": "code",
   "execution_count": null,
   "metadata": {},
   "outputs": [],
   "source": [
    "!python basic_auth.py"
   ]
  },
  {
   "source": [
    "### Conclusion\n",
    "\n",
    "In this part, we covered the basic building blocks of Kivymd: `Screen`, `MDLabel`, `MD Buttons`, and `MDTextField`. In the next and final lesson, we will learn other complex and highly used components."
   ],
   "cell_type": "markdown",
   "metadata": {}
  }
 ]
}