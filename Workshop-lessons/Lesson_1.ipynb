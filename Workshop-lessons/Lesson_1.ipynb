{
 "metadata": {
  "language_info": {
   "codemirror_mode": {
    "name": "ipython",
    "version": 3
   },
   "file_extension": ".py",
   "mimetype": "text/x-python",
   "name": "python",
   "nbconvert_exporter": "python",
   "pygments_lexer": "ipython3",
   "version": "3.9.0-final"
  },
  "orig_nbformat": 2,
  "kernelspec": {
   "name": "python3",
   "display_name": "Python 3.9.0 64-bit ('app')",
   "metadata": {
    "interpreter": {
     "hash": "eae984d706412521d759594019c5a62c4ce5494f1bcee206263497245ad5b67f"
    }
   }
  }
 },
 "nbformat": 4,
 "nbformat_minor": 2,
 "cells": [
  {
   "source": [
    "# Building Android Apps With Python: Lesson 1"
   ],
   "cell_type": "markdown",
   "metadata": {}
  },
  {
   "source": [
    "Quickly open up your IDE and start with this basic code. First, we will create a new python script named `base.py` and write the following code in it: "
   ],
   "cell_type": "markdown",
   "metadata": {}
  },
  {
   "cell_type": "code",
   "execution_count": null,
   "metadata": {},
   "outputs": [],
   "source": [
    "%%writefile base.py # this is to write the file as a python script\n",
    "\n",
    "from kivy.app import App\n",
    "from kivy.uix.label import Label\n",
    "\n",
    "\n",
    "class Main(App):\n",
    "    def build(self):\n",
    "        return Label(text='Hello World')\n",
    "\n",
    "\n",
    "Main().run()"
   ]
  },
  {
   "source": [
    "Now run the file with the following code:"
   ],
   "cell_type": "markdown",
   "metadata": {}
  },
  {
   "cell_type": "code",
   "execution_count": null,
   "metadata": {},
   "outputs": [],
   "source": [
    "!python base.py\n",
    "\n",
    "# Note: you can also run this in your terminal,\n",
    "# just without the exclamation mark!"
   ]
  },
  {
   "source": [
    "Let me explain this code line by line:\n",
    "\n",
    "- The first line imports the base app from the Kivy library.\n",
    "\n",
    "- Now we need to display some text on the screen and for displaying any text, we use `Label` functionality and as I said that these are UI/UX things, we will import them from the `kivy.uix` library.\n",
    "\n",
    "- The third line (ignore the white-space) of the code is where our OOP concept comes into play. The `App` which we have imported from the `kivy.app` is the base class of the `App`. What it means is that the Kivy sets up all the essential things to run our app and we need to inherit this app class, change it, and build our application. The name of this class should start with capitals and it also serves as the name of the app which can be changed later on so you can name it anything you want.\n",
    "\n",
    "- `def` build function is the app entry point. All the things defined here will be built first and the first screen or the main screen is passed here. It returns the `Label`, and it has a property of text which has the value `Hello World`. Read more about labels [here](https://kivy.org/doc/stable/api-kivy.uix.label.html).\n",
    "\n",
    "- Then the last line calls this main class and runs it."
   ],
   "cell_type": "markdown",
   "metadata": {}
  },
  {
   "source": [
    "### Problem with Kivy\n",
    "\n",
    "This how we build our first app but did you notice one that the background is automatically black and the text is white? I haven’t even mentioned this in the code. Kivy takes it by default. Now we move to the interesting part, let’s build a simple button with no enhancement in Kivy:\n"
   ],
   "cell_type": "markdown",
   "metadata": {}
  },
  {
   "cell_type": "code",
   "execution_count": null,
   "metadata": {},
   "outputs": [],
   "source": [
    "%%writefile base.py\n",
    "\n",
    "from kivy.app import App\n",
    "from kivy.uix.button import Button\n",
    "\n",
    "\n",
    "class Main(App):\n",
    "    def build(self):\n",
    "        return Button(text='Hello World',\n",
    "                      size_hint=(0.5, 0.5))\n",
    "\n",
    "\n",
    "Main().run()"
   ]
  },
  {
   "cell_type": "code",
   "execution_count": null,
   "metadata": {},
   "outputs": [],
   "source": [
    "# let's run the script\n",
    "\n",
    "!python base.py"
   ]
  },
  {
   "source": [
    "This is a very unattractive look. Imagine you are using an app that has an interface like this. I would uninstall that app and won’t even rate it! \n",
    "\n",
    "Enhancing features in Kivy is a tedious process and requires a lot of code. \n",
    "\n",
    "Don’t believe me? Look at the code we need just to create a rectangular flat button placed at the center with a blue border, blue text, and white background:"
   ],
   "cell_type": "markdown",
   "metadata": {}
  },
  {
   "cell_type": "code",
   "execution_count": null,
   "metadata": {},
   "outputs": [],
   "source": [
    "%%writefile base.py\n",
    "\n",
    "from kivy.app import App\n",
    "from kivy.metrics import dp\n",
    "from kivy.uix.behaviors import TouchRippleBehavior\n",
    "from kivy.uix.button import Button\n",
    "from kivy.lang import Builder\n",
    "\n",
    "\n",
    "KV = \"\"\"\n",
    "<RectangleFlatButton>:\n",
    "    ripple_color: 0, 0, 0, .2\n",
    "    background_color: 0, 0, 0, 0\n",
    "    color: root.primary_color\n",
    "    canvas.before:\n",
    "        Color:\n",
    "            rgba: root.primary_color\n",
    "        Line:\n",
    "            width: 1\n",
    "            rectangle: (self.x, self.y, self.width, self.height)\n",
    "Screen:\n",
    "    canvas:\n",
    "        Color:\n",
    "            rgba: 0.9764705882352941, 0.9764705882352941, 0.9764705882352941, 1\n",
    "        Rectangle:\n",
    "            pos: self.pos\n",
    "            size: self.size\n",
    "\"\"\"\n",
    "\n",
    "\n",
    "class RectangleFlatButton(TouchRippleBehavior, Button):\n",
    "    primary_color = [\n",
    "        0.12941176470588237,\n",
    "        0.5882352941176471,\n",
    "        0.9529411764705882,\n",
    "        1\n",
    "    ]\n",
    "\n",
    "    def on_touch_down(self, touch):\n",
    "        collide_point = self.collide_point(touch.x, touch.y)\n",
    "        if collide_point:\n",
    "            touch.grab(self)\n",
    "            self.ripple_show(touch)\n",
    "            return True\n",
    "        return False\n",
    "\n",
    "    def on_touch_up(self, touch):\n",
    "        if touch.grab_current is self:\n",
    "            touch.ungrab(self)\n",
    "            self.ripple_fade()\n",
    "            return True\n",
    "        return False\n",
    "\n",
    "\n",
    "class MainApp(App):\n",
    "    def build(self):\n",
    "        screen = Builder.load_string(KV)\n",
    "        screen.add_widget(\n",
    "            RectangleFlatButton(\n",
    "                text=\"Hello, World\",\n",
    "                pos_hint={\"center_x\": 0.5, \"center_y\": 0.5},\n",
    "                size_hint=(None, None),\n",
    "                size=(dp(110), dp(35)),\n",
    "                ripple_color=(0.8, 0.8, 0.8, 0.5),\n",
    "            )\n",
    "        )\n",
    "        return screen\n",
    "\n",
    "\n",
    "MainApp().run()"
   ]
  },
  {
   "source": [
    "Don’t worry about the code, because we won't be using it. But just look at the output now:"
   ],
   "cell_type": "markdown",
   "metadata": {}
  },
  {
   "cell_type": "code",
   "execution_count": null,
   "metadata": {},
   "outputs": [],
   "source": [
    "!python base.py"
   ]
  },
  {
   "source": [
    "Doesn’t it look nice now!\n",
    "\n"
   ],
   "cell_type": "markdown",
   "metadata": {}
  },
  {
   "source": [
    "### Introducing Kivymd\n",
    "\n",
    "Now we have talked a lot about Kivy and we know it provides the platform for building applications. \n",
    "\n",
    "KivyMD is a collection of Material Design compliant widgets for use with Kivy and approximate [Google’s Material Design spec](https://material.io/design/introduction) as close as possible without sacrificing ease of use or application performance. It is based on Kivy and is easier to code. It is very similar to Kivy and just adds MD at starting in every element and widget, plus it has a wide variety of other new elements. \n",
    "\n",
    "Now see the code in Kivymd to generate the same output button:"
   ],
   "cell_type": "markdown",
   "metadata": {}
  },
  {
   "cell_type": "code",
   "execution_count": null,
   "metadata": {},
   "outputs": [],
   "source": [
    "%%writefile base.py\n",
    "\n",
    "from kivymd.app import MDApp\n",
    "from kivymd.uix.button import MDRectangleFlatButton\n",
    "from kivymd.uix.screen import MDScreen\n",
    "\n",
    "\n",
    "class Main(MDApp):\n",
    "    def build(self):\n",
    "        screen = MDScreen()\n",
    "        btn = MDRectangleFlatButton(text=\"Hello World\",\n",
    "                                    pos_hint={'center_x': 0.5, 'center_y': 0.5}\n",
    "                                    )\n",
    "        screen.add_widget(btn) \n",
    "        return screen\n",
    "\n",
    "\n",
    "Main().run()"
   ]
  },
  {
   "cell_type": "code",
   "execution_count": null,
   "metadata": {},
   "outputs": [],
   "source": [
    "!python base.py"
   ]
  },
  {
   "source": [
    "### Conclusion\n",
    "\n",
    "This was an introductory lesson to building android apps in python. We learned what is Kivy, why and how to use environments, we built a basic app in Kivy, and compared Kivy and Kivymd with an example of a button code. In the next lesson, we will explore various other key elements in Kivymd. "
   ],
   "cell_type": "markdown",
   "metadata": {}
  }
 ]
}